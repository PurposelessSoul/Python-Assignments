{
 "cells": [
  {
   "cell_type": "markdown",
   "metadata": {},
   "source": [
    "### Gaussian Elimination"
   ]
  },
  {
   "cell_type": "code",
   "execution_count": 239,
   "metadata": {},
   "outputs": [],
   "source": [
    "import numpy as np\n",
    "from numpy import linalg"
   ]
  },
  {
   "cell_type": "code",
   "execution_count": 240,
   "metadata": {},
   "outputs": [],
   "source": [
    "np.set_printoptions(precision=4, suppress=True)\n",
    "# This will make sure that we can print the matrix in a nice format"
   ]
  },
  {
   "cell_type": "code",
   "execution_count": 241,
   "metadata": {},
   "outputs": [
    {
     "name": "stdout",
     "output_type": "stream",
     "text": [
      "[[ 5.  1.  4.  3.]\n",
      " [ 1.  6.  3.  0.]\n",
      " [ 2.  2.  9.  1.]\n",
      " [ 5.  0.  1. 10.]]\n",
      "[[ 2.]\n",
      " [ 1.]\n",
      " [ 0.]\n",
      " [10.]]\n",
      "[[-0.219 ]\n",
      " [ 0.2714]\n",
      " [-0.1364]\n",
      " [ 1.1232]]\n"
     ]
    }
   ],
   "source": [
    "a = np.array([[5, 1, 4, 3],\n",
    "              [1, 6, 3, 0],\n",
    "              [2, 2, 9, 1],\n",
    "              [5, 0, 1, 10]],float)\n",
    "\n",
    "b= np.array([\n",
    "    [2],\n",
    "    [1],\n",
    "    [0],\n",
    "    [10]\n",
    "], float)\n",
    "x= linalg.solve(a,b)\n",
    "print(a)\n",
    "print(b)\n",
    "print(x)"
   ]
  },
  {
   "cell_type": "code",
   "execution_count": 242,
   "metadata": {},
   "outputs": [],
   "source": [
    "from copy import deepcopy"
   ]
  },
  {
   "cell_type": "code",
   "execution_count": 243,
   "metadata": {},
   "outputs": [
    {
     "data": {
      "text/plain": [
       "array([[ 5.,  1.,  4.,  3.,  2.],\n",
       "       [ 1.,  6.,  3.,  0.,  1.],\n",
       "       [ 2.,  2.,  9.,  1.,  0.],\n",
       "       [ 5.,  0.,  1., 10., 10.]])"
      ]
     },
     "execution_count": 243,
     "metadata": {},
     "output_type": "execute_result"
    }
   ],
   "source": [
    "A= deepcopy(a)\n",
    "A= np.column_stack((A,b)) # augmented b to A\n",
    "A"
   ]
  },
  {
   "cell_type": "code",
   "execution_count": null,
   "metadata": {},
   "outputs": [
    {
     "name": "stdout",
     "output_type": "stream",
     "text": [
      "0.2\n",
      "[[ 5.   1.   4.   3.   2. ]\n",
      " [ 0.   5.8  2.2 -0.6  0.6]\n",
      " [ 2.   2.   9.   1.   0. ]\n",
      " [ 5.   0.   1.  10.  10. ]]\n",
      "0.4\n",
      "[[ 5.   1.   4.   3.   2. ]\n",
      " [ 0.   5.8  2.2 -0.6  0.6]\n",
      " [ 0.   1.6  7.4 -0.2 -0.8]\n",
      " [ 5.   0.   1.  10.  10. ]]\n",
      "1.0\n",
      "[[ 5.   1.   4.   3.   2. ]\n",
      " [ 0.   5.8  2.2 -0.6  0.6]\n",
      " [ 0.   1.6  7.4 -0.2 -0.8]\n",
      " [ 0.  -1.  -3.   7.   8. ]]\n",
      "0.27586206896551724\n",
      "[[ 5.      1.      4.      3.      2.    ]\n",
      " [ 0.      5.8     2.2    -0.6     0.6   ]\n",
      " [ 0.      0.      6.7931 -0.0345 -0.9655]\n",
      " [ 0.     -1.     -3.      7.      8.    ]]\n",
      "-0.1724137931034483\n",
      "[[ 5.      1.      4.      3.      2.    ]\n",
      " [ 0.      5.8     2.2    -0.6     0.6   ]\n",
      " [ 0.      0.      6.7931 -0.0345 -0.9655]\n",
      " [ 0.      0.     -2.6207  6.8966  8.1034]]\n",
      "-0.38578680203045684\n",
      "[[ 5.      1.      4.      3.      2.    ]\n",
      " [ 0.      5.8     2.2    -0.6     0.6   ]\n",
      " [ 0.      0.      6.7931 -0.0345 -0.9655]\n",
      " [ 0.      0.      0.      6.8832  7.731 ]]\n"
     ]
    }
   ],
   "source": [
    "n=len(A)\n",
    "c= np.zeros_like(a) #creating a zero matrix of the same size as a to store the multipliers\n",
    "for j in range(n): #column iterator\n",
    "    for i in range(j+1, n): #row iterator\n",
    "        c[i,j]= A[i,j]/A[j,j] #multiplier for A[i,j]\n",
    "        print(c[i,j])\n",
    "        A[i]= A[i]- c[i,j]*A[j] #update the ith row of A\n",
    "        print(A)\n",
    "L= np.identity(n) + c   # Even though we don't need L for the Gaussian elimination, we need it for the LU decomposition"
   ]
  },
  {
   "cell_type": "code",
   "execution_count": null,
   "metadata": {},
   "outputs": [
    {
     "name": "stdout",
     "output_type": "stream",
     "text": [
      "[[ 5.      1.      4.      3.    ]\n",
      " [ 0.      5.8     2.2    -0.6   ]\n",
      " [ 0.      0.      6.7931 -0.0345]\n",
      " [ 0.      0.      0.      6.8832]] [ 2.      0.6    -0.9655  7.731 ]\n"
     ]
    }
   ],
   "source": [
    "b_= A[:,-1] #storing the updated b as b_\n",
    "U= A[:,:len(A)]\n",
    "print(U,b_)"
   ]
  },
  {
   "cell_type": "markdown",
   "metadata": {},
   "source": [
    "##### Now that we have an upper triangular matrix, we can solve for the unknowns using back substitution. The formula for back substitution is:\n",
    "$$ x_i = \\frac{b_i - \\begin{pmatrix} U_{i,i+1} \\\\ U_{i,i+2} \\\\ \\vdots \\\\ U_{i,n} \\end{pmatrix} \\,\\mathbf{\\cdot}\\, \\begin{pmatrix} x_{i+1} \\\\ x_{i+2} \\\\ \\vdots \\\\ x_n \\end{pmatrix}}{U_{i,i}}\n",
    "\n",
    "$$\n"
   ]
  },
  {
   "cell_type": "code",
   "execution_count": 261,
   "metadata": {},
   "outputs": [
    {
     "data": {
      "text/plain": [
       "array([-0.219 ,  0.2714, -0.1364,  1.1232])"
      ]
     },
     "execution_count": 261,
     "metadata": {},
     "output_type": "execute_result"
    }
   ],
   "source": [
    "x=np.zeros_like(b)\n",
    "for i in reversed(range(n)):\n",
    "    x[i]= (b_[i] - np.dot(U[i,i+1:],x[i+1:]))/U[i,i] # have to use b_ because b is modified\n",
    "    #print(x[i])\n",
    "x"
   ]
  },
  {
   "cell_type": "code",
   "execution_count": 263,
   "metadata": {},
   "outputs": [
    {
     "data": {
      "text/plain": [
       "array([-0.219 ,  0.2714, -0.1364,  1.1232])"
      ]
     },
     "execution_count": 263,
     "metadata": {},
     "output_type": "execute_result"
    }
   ],
   "source": [
    "np.linalg.solve(a,b)"
   ]
  },
  {
   "cell_type": "code",
   "execution_count": 247,
   "metadata": {},
   "outputs": [
    {
     "data": {
      "text/plain": [
       "array([[ 1.    ,  0.    ,  0.    ,  0.    ],\n",
       "       [ 0.2   ,  1.    ,  0.    ,  0.    ],\n",
       "       [ 0.4   ,  0.2759,  1.    ,  0.    ],\n",
       "       [ 1.    , -0.1724, -0.3858,  1.    ]])"
      ]
     },
     "execution_count": 247,
     "metadata": {},
     "output_type": "execute_result"
    }
   ],
   "source": [
    "L"
   ]
  },
  {
   "cell_type": "markdown",
   "metadata": {},
   "source": [
    "### Solving for x using the LU decomposition"
   ]
  },
  {
   "cell_type": "markdown",
   "metadata": {},
   "source": [
    "For the LU decomposition method, we first need to decompose the matrix A into two matrices L and U, where L is a lower triangular matrix and U is an upper triangular matrix. \n",
    "$$ Ax=b \\Rightarrow LUx=b $$\n",
    "Then, we can solve the system of equations Ax = b by solving the following two systems of equations: \n",
    "$$ Ld=b $$\n",
    "$$ Ux=d $$\n"
   ]
  },
  {
   "cell_type": "markdown",
   "metadata": {},
   "source": [
    "checking if the decomposition is correct by multiplying L and U to get A"
   ]
  },
  {
   "cell_type": "code",
   "execution_count": 250,
   "metadata": {},
   "outputs": [
    {
     "data": {
      "text/plain": [
       "array([[ 5.,  1.,  4.,  3.],\n",
       "       [ 1.,  6.,  3.,  0.],\n",
       "       [ 2.,  2.,  9.,  1.],\n",
       "       [ 5.,  0.,  1., 10.]])"
      ]
     },
     "execution_count": 250,
     "metadata": {},
     "output_type": "execute_result"
    }
   ],
   "source": [
    "np.dot(L,U)"
   ]
  },
  {
   "cell_type": "code",
   "execution_count": null,
   "metadata": {},
   "outputs": [
    {
     "name": "stdout",
     "output_type": "stream",
     "text": [
      "[[-0.219 ]\n",
      " [ 0.2714]\n",
      " [-0.1364]\n",
      " [ 1.1232]]\n"
     ]
    }
   ],
   "source": [
    "n= len(b)\n",
    "d= np.zeros_like(b)\n",
    "for i in range(n):\n",
    "    d[i]= (b[i]-np.dot((L[i,0:i]),d[0:i]))/L[i,i] # solving for d in Ld=b using forward substitution\n",
    "x= np.zeros_like(b)\n",
    "for i in range(n-1,-1,-1):\n",
    "    x[i]= (d[i]-np.dot(U[i,i+1:],x[i+1:]))/U[i,i] # solving for x in Ux=d using back substitution\n",
    "print(x)"
   ]
  },
  {
   "cell_type": "code",
   "execution_count": 249,
   "metadata": {},
   "outputs": [
    {
     "data": {
      "text/plain": [
       "array([[-0.219 ],\n",
       "       [ 0.2714],\n",
       "       [-0.1364],\n",
       "       [ 1.1232]])"
      ]
     },
     "execution_count": 249,
     "metadata": {},
     "output_type": "execute_result"
    }
   ],
   "source": [
    "linalg.solve(a,b)"
   ]
  },
  {
   "cell_type": "code",
   "execution_count": 251,
   "metadata": {},
   "outputs": [
    {
     "data": {
      "text/plain": [
       "array([[ 5.,  1.,  4.,  3.],\n",
       "       [ 1.,  6.,  3.,  0.],\n",
       "       [ 2.,  2.,  9.,  1.],\n",
       "       [ 5.,  0.,  1., 10.]])"
      ]
     },
     "execution_count": 251,
     "metadata": {},
     "output_type": "execute_result"
    }
   ],
   "source": [
    "a"
   ]
  },
  {
   "cell_type": "code",
   "execution_count": 252,
   "metadata": {},
   "outputs": [
    {
     "data": {
      "text/plain": [
       "array([[ 2.],\n",
       "       [ 1.],\n",
       "       [ 0.],\n",
       "       [10.]])"
      ]
     },
     "execution_count": 252,
     "metadata": {},
     "output_type": "execute_result"
    }
   ],
   "source": [
    "b"
   ]
  },
  {
   "cell_type": "markdown",
   "metadata": {},
   "source": [
    "### Gauss-Jordan"
   ]
  },
  {
   "cell_type": "code",
   "execution_count": 253,
   "metadata": {},
   "outputs": [
    {
     "name": "stdout",
     "output_type": "stream",
     "text": [
      "0.0\n",
      "0.0\n",
      "[[ 5.   1.   4.   3.   2. ]\n",
      " [ 0.   5.8  2.2 -0.6  0.6]\n",
      " [ 2.   2.   9.   1.   0. ]\n",
      " [ 5.   0.   1.  10.  10. ]]\n",
      "0.0\n",
      "[[ 5.   1.   4.   3.   2. ]\n",
      " [ 0.   5.8  2.2 -0.6  0.6]\n",
      " [ 0.   1.6  7.4 -0.2 -0.8]\n",
      " [ 5.   0.   1.  10.  10. ]]\n",
      "0.0\n",
      "[[ 5.   1.   4.   3.   2. ]\n",
      " [ 0.   5.8  2.2 -0.6  0.6]\n",
      " [ 0.   1.6  7.4 -0.2 -0.8]\n",
      " [ 0.  -1.  -3.   7.   8. ]]\n",
      "[[ 1.   0.2  0.8  0.6  0.4]\n",
      " [ 0.   5.8  2.2 -0.6  0.6]\n",
      " [ 0.   1.6  7.4 -0.2 -0.8]\n",
      " [ 0.  -1.  -3.   7.   8. ]]\n",
      "0.0\n",
      "[[ 1.      0.      0.7241  0.6207  0.3793]\n",
      " [ 0.      5.8     2.2    -0.6     0.6   ]\n",
      " [ 0.      1.6     7.4    -0.2    -0.8   ]\n",
      " [ 0.     -1.     -3.      7.      8.    ]]\n",
      "0.0\n",
      "0.0\n",
      "[[ 1.      0.      0.7241  0.6207  0.3793]\n",
      " [ 0.      5.8     2.2    -0.6     0.6   ]\n",
      " [ 0.      0.      6.7931 -0.0345 -0.9655]\n",
      " [ 0.     -1.     -3.      7.      8.    ]]\n",
      "0.0\n",
      "[[ 1.      0.      0.7241  0.6207  0.3793]\n",
      " [ 0.      5.8     2.2    -0.6     0.6   ]\n",
      " [ 0.      0.      6.7931 -0.0345 -0.9655]\n",
      " [ 0.      0.     -2.6207  6.8966  8.1034]]\n",
      "[[ 1.      0.      0.7241  0.6207  0.3793]\n",
      " [ 0.      1.      0.3793 -0.1034  0.1034]\n",
      " [ 0.      0.      6.7931 -0.0345 -0.9655]\n",
      " [ 0.      0.     -2.6207  6.8966  8.1034]]\n",
      "0.0\n",
      "[[ 1.      0.      0.      0.6244  0.4822]\n",
      " [ 0.      1.      0.3793 -0.1034  0.1034]\n",
      " [ 0.      0.      6.7931 -0.0345 -0.9655]\n",
      " [ 0.      0.     -2.6207  6.8966  8.1034]]\n",
      "0.0\n",
      "[[ 1.      0.      0.      0.6244  0.4822]\n",
      " [ 0.      1.      0.     -0.1015  0.1574]\n",
      " [ 0.      0.      6.7931 -0.0345 -0.9655]\n",
      " [ 0.      0.     -2.6207  6.8966  8.1034]]\n",
      "0.0\n",
      "0.0\n",
      "[[ 1.      0.      0.      0.6244  0.4822]\n",
      " [ 0.      1.      0.     -0.1015  0.1574]\n",
      " [ 0.      0.      6.7931 -0.0345 -0.9655]\n",
      " [ 0.      0.      0.      6.8832  7.731 ]]\n",
      "[[ 1.      0.      0.      0.6244  0.4822]\n",
      " [ 0.      1.      0.     -0.1015  0.1574]\n",
      " [ 0.      0.      1.     -0.0051 -0.1421]\n",
      " [ 0.      0.      0.      6.8832  7.731 ]]\n",
      "0.0\n",
      "[[ 1.     -0.      0.      0.     -0.219 ]\n",
      " [ 0.      1.      0.     -0.1015  0.1574]\n",
      " [ 0.      0.      1.     -0.0051 -0.1421]\n",
      " [ 0.      0.      0.      6.8832  7.731 ]]\n",
      "0.0\n",
      "[[ 1.     -0.      0.      0.     -0.219 ]\n",
      " [ 0.      1.      0.      0.      0.2714]\n",
      " [ 0.      0.      1.     -0.0051 -0.1421]\n",
      " [ 0.      0.      0.      6.8832  7.731 ]]\n",
      "0.0\n",
      "[[ 1.     -0.      0.      0.     -0.219 ]\n",
      " [ 0.      1.      0.      0.      0.2714]\n",
      " [ 0.      0.      1.      0.     -0.1364]\n",
      " [ 0.      0.      0.      6.8832  7.731 ]]\n",
      "0.0\n",
      "[[ 1.     -0.      0.      0.     -0.219 ]\n",
      " [ 0.      1.      0.      0.      0.2714]\n",
      " [ 0.      0.      1.      0.     -0.1364]\n",
      " [ 0.      0.      0.      1.      1.1232]]\n"
     ]
    }
   ],
   "source": [
    "A= np.column_stack((a,b)) #augmented matrix\n",
    "n=len(A)\n",
    "c= np.zeros_like(a)\n",
    "for j in range(n): #column iterator\n",
    "    for i in range(n): #row iterator\n",
    "        print(c[i,j])\n",
    "        if i!=j:\n",
    "            c[i,j]= A[i,j]/A[j,j]\n",
    "            A[i]= A[i]- c[i,j]*A[j] #Updating the ith row using the jth row as pivot\n",
    "            print(A)\n",
    "    A[j]/=A[j,j] #Normalizing each pivot row after the elimination\n",
    "    print(A)"
   ]
  },
  {
   "cell_type": "markdown",
   "metadata": {},
   "source": [
    "Since what we get in place of the original matrix is an identity matrix, our solution is the last column of the augmented matrix."
   ]
  },
  {
   "cell_type": "code",
   "execution_count": 264,
   "metadata": {},
   "outputs": [
    {
     "data": {
      "text/plain": [
       "array([-0.219 ,  0.2714, -0.1364,  1.1232])"
      ]
     },
     "execution_count": 264,
     "metadata": {},
     "output_type": "execute_result"
    }
   ],
   "source": [
    "x= A[:,-1]\n",
    "x"
   ]
  },
  {
   "cell_type": "code",
   "execution_count": 254,
   "metadata": {},
   "outputs": [
    {
     "data": {
      "text/plain": [
       "array([[-0.219 ],\n",
       "       [ 0.2714],\n",
       "       [-0.1364],\n",
       "       [ 1.1232]])"
      ]
     },
     "execution_count": 254,
     "metadata": {},
     "output_type": "execute_result"
    }
   ],
   "source": [
    "linalg.solve(a,b)"
   ]
  },
  {
   "cell_type": "markdown",
   "metadata": {},
   "source": [
    "### Gauss- Seidel"
   ]
  },
  {
   "cell_type": "markdown",
   "metadata": {},
   "source": [
    "The Gauss-Seidel method is a numerical method used to solve a system of linear equations. It is an iterative method that starts with an initial guess for the solution and then uses the current guess to generate a new guess. The process is repeated until the difference between the current guess and the previous guess is less than a specified tolerance. The x values are first initialized to 0. The x values are then updated using the follwing iterative rule:\n",
    "$$x_i = \\frac{b_i - \\begin{pmatrix} a_{i,1} \\\\ a_{i,2} \\\\ \\vdots \\\\ \\mathbf{\\cancel{a_{i,i}}} \\\\ \\vdots \\\\ a_{i,n} \\end{pmatrix} \\,\\mathbf{\\cdot}\\, \\begin{pmatrix} x_1 \\\\ x_2 \\\\ \\vdots \\\\ \\mathbf{\\cancel{x_i}} \\\\ \\vdots \\\\ x_n \\end{pmatrix}}{a_{i,i}}\n",
    "$$\n",
    "The barred values are the ones that are not used in the calculation. "
   ]
  },
  {
   "cell_type": "code",
   "execution_count": 256,
   "metadata": {},
   "outputs": [
    {
     "name": "stdout",
     "output_type": "stream",
     "text": [
      "[[ 5.  1.  4.  3.]\n",
      " [ 1.  6.  3.  0.]\n",
      " [ 2.  2.  9.  1.]\n",
      " [ 5.  0.  1. 10.]]\n",
      "[[-0.219 ]\n",
      " [ 0.2714]\n",
      " [-0.1364]\n",
      " [ 1.1232]]\n"
     ]
    }
   ],
   "source": [
    "print(a)\n",
    "print(x)"
   ]
  },
  {
   "cell_type": "code",
   "execution_count": 269,
   "metadata": {},
   "outputs": [],
   "source": [
    "def GaussSeidel(a,b,e=0.0001,max_iter=100):  \n",
    "    # Convert b to 1D array\n",
    "    b = b.flatten()\n",
    "    # Initialize x to zero\n",
    "    x = np.zeros_like(b)\n",
    "    n = len(x)\n",
    "    for k in range(max_iter): # 10 iterations\n",
    "        x_old= x.copy()\n",
    "        for i in range(n):\n",
    "            # simpler way to  do this is to use numpy.delete without using slicing to make the code more concise\n",
    "            # np.delete(a[i],i) means delete the i-th element of a[i]\n",
    "            x[i] = (b[i] - np.dot(np.delete(a[i], i), np.delete(x, i)))/a[i][i]\n",
    "            print(x)\n",
    "        error= np.linalg.norm(x-x_old,ord=np.inf) #calculate the difference between the old and new values\n",
    "        if error<e:\n",
    "            break\n",
    "    print(x)\n",
    "    return x\n"
   ]
  },
  {
   "cell_type": "code",
   "execution_count": 270,
   "metadata": {},
   "outputs": [
    {
     "name": "stdout",
     "output_type": "stream",
     "text": [
      "[0.4 0.  0.  0. ]\n",
      "[0.4 0.1 0.  0. ]\n",
      "[ 0.4     0.1    -0.1111  0.    ]\n",
      "[ 0.4     0.1    -0.1111  0.8111]\n",
      "[-0.0178  0.1    -0.1111  0.8111]\n",
      "[-0.0178  0.2252 -0.1111  0.8111]\n",
      "[-0.0178  0.2252 -0.1362  0.8111]\n",
      "[-0.0178  0.2252 -0.1362  1.0225]\n",
      "[-0.1496  0.2252 -0.1362  1.0225]\n",
      "[-0.1496  0.2597 -0.1362  1.0225]\n",
      "[-0.1496  0.2597 -0.1381  1.0225]\n",
      "[-0.1496  0.2597 -0.1381  1.0886]\n",
      "[-0.1946  0.2597 -0.1381  1.0886]\n",
      "[-0.1946  0.2681 -0.1381  1.0886]\n",
      "[-0.1946  0.2681 -0.1373  1.0886]\n",
      "[-0.1946  0.2681 -0.1373  1.111 ]\n",
      "[-0.2104  0.2681 -0.1373  1.111 ]\n",
      "[-0.2104  0.2704 -0.1373  1.111 ]\n",
      "[-0.2104  0.2704 -0.1368  1.111 ]\n",
      "[-0.2104  0.2704 -0.1368  1.1189]\n",
      "[-0.216   0.2704 -0.1368  1.1189]\n",
      "[-0.216   0.2711 -0.1368  1.1189]\n",
      "[-0.216   0.2711 -0.1366  1.1189]\n",
      "[-0.216   0.2711 -0.1366  1.1217]\n",
      "[-0.218   0.2711 -0.1366  1.1217]\n",
      "[-0.218   0.2713 -0.1366  1.1217]\n",
      "[-0.218   0.2713 -0.1365  1.1217]\n",
      "[-0.218   0.2713 -0.1365  1.1226]\n",
      "[-0.2186  0.2713 -0.1365  1.1226]\n",
      "[-0.2186  0.2713 -0.1365  1.1226]\n",
      "[-0.2186  0.2713 -0.1364  1.1226]\n",
      "[-0.2186  0.2713 -0.1364  1.123 ]\n",
      "[-0.2189  0.2713 -0.1364  1.123 ]\n",
      "[-0.2189  0.2714 -0.1364  1.123 ]\n",
      "[-0.2189  0.2714 -0.1364  1.123 ]\n",
      "[-0.2189  0.2714 -0.1364  1.1231]\n",
      "[-0.219   0.2714 -0.1364  1.1231]\n",
      "[-0.219   0.2714 -0.1364  1.1231]\n",
      "[-0.219   0.2714 -0.1364  1.1231]\n",
      "[-0.219   0.2714 -0.1364  1.1231]\n",
      "[-0.219   0.2714 -0.1364  1.1231]\n"
     ]
    },
    {
     "data": {
      "text/plain": [
       "array([-0.219 ,  0.2714, -0.1364,  1.1231])"
      ]
     },
     "execution_count": 270,
     "metadata": {},
     "output_type": "execute_result"
    }
   ],
   "source": [
    "GaussSeidel(a,b)"
   ]
  },
  {
   "cell_type": "code",
   "execution_count": 258,
   "metadata": {},
   "outputs": [
    {
     "data": {
      "text/plain": [
       "array([-0.219 ,  0.2714, -0.1364,  1.1232])"
      ]
     },
     "execution_count": 258,
     "metadata": {},
     "output_type": "execute_result"
    }
   ],
   "source": [
    "x"
   ]
  }
 ],
 "metadata": {
  "kernelspec": {
   "display_name": "base",
   "language": "python",
   "name": "python3"
  },
  "language_info": {
   "codemirror_mode": {
    "name": "ipython",
    "version": 3
   },
   "file_extension": ".py",
   "mimetype": "text/x-python",
   "name": "python",
   "nbconvert_exporter": "python",
   "pygments_lexer": "ipython3",
   "version": "3.12.4"
  }
 },
 "nbformat": 4,
 "nbformat_minor": 2
}
